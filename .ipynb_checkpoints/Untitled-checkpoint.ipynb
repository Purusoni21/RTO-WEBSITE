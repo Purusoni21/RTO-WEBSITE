{
 "cells": [
  {
   "cell_type": "code",
   "execution_count": 3,
   "metadata": {},
   "outputs": [],
   "source": [
    "import cv2 \n",
    "import numpy \n",
    "import skimage \n",
    "import tensorflow \n",
    "import imutils "
   ]
  },
  {
   "cell_type": "code",
   "execution_count": 4,
   "metadata": {},
   "outputs": [],
   "source": [
    "def preprocess(self, input_img):\n",
    "  \n",
    "    imgBlurred = cv2.GaussianBlur(input_img, (7, 7), 0)\n",
    "      \n",
    "    # convert to gray\n",
    "    gray = cv2.cvtColor(imgBlurred,\n",
    "                        cv2.COLOR_BGR2GRAY) \n",
    "      \n",
    "    # sobelX to get the vertical edges\n",
    "    sobelx = cv2.Sobel(gray, cv2.CV_8U, \n",
    "                       1, 0, ksize = 3)  \n",
    "      \n",
    "    # otsu's thresholding\n",
    "    ret2, threshold_img = cv2.threshold(sobelx,0, 255,\n",
    "                           cv2.THRESH_BINARY + cv2.THRESH_OTSU)\n",
    " \n",
    "    element = self.element_structure\n",
    "    morph_n_thresholded_img = threshold_img.copy()\n",
    "    cv2.morphologyEx(src = threshold_img,\n",
    "                     op = cv2.MORPH_CLOSE,\n",
    "                     kernel = element, \n",
    "                     dst = morph_n_thresholded_img)\n",
    "      \n",
    "    return morph_n_thresholded_img"
   ]
  },
  {
   "cell_type": "code",
   "execution_count": 5,
   "metadata": {},
   "outputs": [],
   "source": [
    "def extract_contours(self, after_preprocess):\n",
    "  \n",
    "    _, contours, _ = cv2.findContours(after_preprocess,\n",
    "                                      mode = cv2.RETR_EXTERNAL,\n",
    "                                      method = cv2.CHAIN_APPROX_NONE)\n",
    "    return contours"
   ]
  },
  {
   "cell_type": "code",
   "execution_count": 6,
   "metadata": {},
   "outputs": [],
   "source": [
    "def validateRatio(self, rect):\n",
    "  \n",
    "    (x, y), (width, height), rect_angle = rect\n",
    " \n",
    "    if (width > height):\n",
    "        angle = -rect_angle\n",
    "          \n",
    "    else:\n",
    "        angle = 90 + rect_angle\n",
    " \n",
    "    if angle > 15:\n",
    "        return False\n",
    "      \n",
    "    if (height == 0 or width == 0):\n",
    "        return False\n",
    " \n",
    "    area = width * height\n",
    "      \n",
    "    if not self.preRatioCheck(area, width, height):\n",
    "        return False\n",
    "      \n",
    "    else:\n",
    "        return True\n",
    " \n"
   ]
  },
  {
   "cell_type": "code",
   "execution_count": 7,
   "metadata": {},
   "outputs": [],
   "source": [
    "def preRatioCheck(self, area, width, height):\n",
    "      \n",
    "    min = self.min_area\n",
    "    max = self.max_area\n",
    " \n",
    "    ratioMin = 2.5\n",
    "    ratioMax = 7\n",
    " \n",
    "    ratio = float(width) / float(height)\n",
    "      \n",
    "    if ratio < 1:\n",
    "        ratio = 1 / ratio\n",
    " \n",
    "    if (area < min or area > max) or (ratio < ratioMin or ratio > ratioMax):\n",
    "        return False\n",
    "      \n",
    "    return True"
   ]
  },
  {
   "cell_type": "code",
   "execution_count": 8,
   "metadata": {},
   "outputs": [],
   "source": [
    "def clean_plate(self, plate):\n",
    "  \n",
    "    gray = cv2.cvtColor(plate, cv2.COLOR_BGR2GRAY)\n",
    "    thresh = cv2.adaptiveThreshold(gray, 255, \n",
    "                                   cv2.ADAPTIVE_THRESH_GAUSSIAN_C,\n",
    "                                   cv2.THRESH_BINARY, 11, 2)\n",
    "      \n",
    "    _, contours, _ = cv2.findContours(thresh.copy(), \n",
    "                                      cv2.RETR_EXTERNAL,\n",
    "                                      cv2.CHAIN_APPROX_NONE)\n",
    " \n",
    "    if contours:\n",
    "          \n",
    "        areas = [cv2.contourArea(c) for c in contours]\n",
    "          \n",
    "        # index of the largest contour in the \n",
    "        # areas array\n",
    "        max_index = np.argmax(areas)  \n",
    " \n",
    "        max_cnt = contours[max_index]\n",
    "        max_cntArea = areas[max_index]\n",
    "        x, y, w, h = cv2.boundingRect(max_cnt)\n",
    " \n",
    "        if not self.ratioCheck(max_cntArea,\n",
    "                               plate.shape[1],\n",
    "                               plate.shape[0]):\n",
    "            return plate, False, None\n",
    "          \n",
    "        return plate, True, [x, y, w, h]\n",
    "      \n",
    "    else:\n",
    "        return plate, False, None\n",
    " \n"
   ]
  },
  {
   "cell_type": "code",
   "execution_count": 9,
   "metadata": {},
   "outputs": [],
   "source": [
    "def ratioCheck(self, area, width, height):\n",
    "      \n",
    "    min = self.min_area\n",
    "    max = self.max_area\n",
    " \n",
    "    ratioMin = 3\n",
    "    ratioMax = 6\n",
    " \n",
    "    ratio = float(width) / float(height)\n",
    "      \n",
    "    if ratio < 1:\n",
    "        ratio = 1 / ratio\n",
    " \n",
    "    if (area < min or area > max) or (ratio < ratioMin or ratio > ratioMax):\n",
    "        return False\n",
    "      \n",
    "    return True"
   ]
  },
  {
   "cell_type": "code",
   "execution_count": null,
   "metadata": {},
   "outputs": [],
   "source": []
  }
 ],
 "metadata": {
  "kernelspec": {
   "display_name": "Python 3",
   "language": "python",
   "name": "python3"
  },
  "language_info": {
   "codemirror_mode": {
    "name": "ipython",
    "version": 3
   },
   "file_extension": ".py",
   "mimetype": "text/x-python",
   "name": "python",
   "nbconvert_exporter": "python",
   "pygments_lexer": "ipython3",
   "version": "3.8.5"
  }
 },
 "nbformat": 4,
 "nbformat_minor": 4
}
